{
  "nbformat": 4,
  "nbformat_minor": 0,
  "metadata": {
    "colab": {
      "provenance": []
    },
    "kernelspec": {
      "name": "python3",
      "display_name": "Python 3"
    },
    "language_info": {
      "name": "python"
    }
  },
  "cells": [
    {
      "cell_type": "code",
      "execution_count": null,
      "metadata": {
        "id": "9Bo5pyPs_X_R"
      },
      "outputs": [],
      "source": [
        "import numpy as np\n",
        "import matplotlib.pyplot as plt\n",
        "import time"
      ]
    },
    {
      "cell_type": "code",
      "source": [
        "maze = np.array([\n",
        "    [0, 0, 0, 0],\n",
        "    [0, 1, 1, 0],\n",
        "    [0, 1, 1, 0],\n",
        "    [0, 0, 0, 2]  # '2' is the goal\n",
        "])"
      ],
      "metadata": {
        "id": "pmyBEBlb_lox"
      },
      "execution_count": null,
      "outputs": []
    },
    {
      "cell_type": "code",
      "source": [
        "learning_rate = 0.1\n",
        "discount_factor = 0.9\n",
        "epsilon = 0.1\n",
        "num_episodes = 1000\n",
        "\n",
        "#lden"
      ],
      "metadata": {
        "id": "8_xuLpEC_n53"
      },
      "execution_count": null,
      "outputs": []
    },
    {
      "cell_type": "code",
      "source": [
        "# Initialize Q-table\n",
        "num_states, num_actions = maze.size, 4\n",
        "Q = np.zeros((num_states, num_actions))\n"
      ],
      "metadata": {
        "id": "oosIayP-_rqH"
      },
      "execution_count": null,
      "outputs": []
    },
    {
      "cell_type": "code",
      "source": [
        "actions = [\"Up\", \"Down\", \"Left\", \"Right\"]"
      ],
      "metadata": {
        "id": "tozmnz7e_tqY"
      },
      "execution_count": null,
      "outputs": []
    },
    {
      "cell_type": "code",
      "source": [
        "# Function to move the agent\n",
        "def move(state, action):\n",
        "    row, col = divmod(state, 4)\n",
        "    if action == 0 and row > 0:  # Up\n",
        "        row -= 1\n",
        "    elif action == 1 and row < 3:  # Down\n",
        "        row += 1\n",
        "    elif action == 2 and col > 0:  # Left\n",
        "        col -= 1\n",
        "    elif action == 3 and col < 3:  # Right\n",
        "        col += 1\n",
        "    new_state = row * 4 + col\n",
        "    return new_state\n",
        "\n"
      ],
      "metadata": {
        "id": "4P6PAkHg_wTQ"
      },
      "execution_count": null,
      "outputs": []
    },
    {
      "cell_type": "code",
      "source": [
        "# Training loop\n",
        "for _ in range(num_episodes):\n",
        "    state = 0\n",
        "    while maze.flat[state] != 2:  # Until goal\n",
        "        action = np.random.choice(num_actions) if np.random.rand() < epsilon else np.argmax(Q[state])\n",
        "        new_state = move(state, action)\n",
        "        Q[state, action] += learning_rate * (-1 + discount_factor * np.max(Q[new_state]) - Q[state, action])\n",
        "        state = new_state\n"
      ],
      "metadata": {
        "id": "ZD-bGVph_5w2"
      },
      "execution_count": null,
      "outputs": []
    },
    {
      "cell_type": "code",
      "source": [
        "def visualize_path(path):\n",
        "    maze_display = maze.copy()\n",
        "    maze_display[np.unravel_index(path, maze.shape)] = 3  # Mark path\n",
        "    plt.imshow(maze_display, cmap=\"cool\")\n",
        "    for step in path: plt.text(step % 4, step // 4, step, ha='center', va='center', color='black')\n",
        "    plt.xticks([]); plt.yticks([]); plt.grid()\n",
        "    plt.show()\n"
      ],
      "metadata": {
        "id": "KU9rwIatAE1J"
      },
      "execution_count": null,
      "outputs": []
    },
    {
      "cell_type": "code",
      "source": [
        "current_state, path = 0, [0]\n",
        "while current_state != 15:\n",
        "    action = np.argmax(Q[current_state])\n",
        "    current_state = move(current_state, action)\n",
        "    path.append(current_state)\n",
        "    print(f\"Moved to: {current_state}\")\n",
        "\n",
        "visualize_path(path)\n"
      ],
      "metadata": {
        "colab": {
          "base_uri": "https://localhost:8080/",
          "height": 515
        },
        "id": "gyNP-eYpATaJ",
        "outputId": "332c9228-39b4-4660-cd21-86afd3642016"
      },
      "execution_count": null,
      "outputs": [
        {
          "output_type": "stream",
          "name": "stdout",
          "text": [
            "Moved to: 1\n",
            "Moved to: 5\n",
            "Moved to: 9\n",
            "Moved to: 13\n",
            "Moved to: 14\n",
            "Moved to: 15\n"
          ]
        },
        {
          "output_type": "display_data",
          "data": {
            "text/plain": [
              "<Figure size 640x480 with 1 Axes>"
            ],
            "image/png": "[encoded data removed]"
          },
          "metadata": {}
        }
      ]
    },
    {
      "cell_type": "code",
      "source": [],
      "metadata": {
        "id": "xz4FWlOLAjgl"
      },
      "execution_count": null,
      "outputs": []
    }
  ]
}